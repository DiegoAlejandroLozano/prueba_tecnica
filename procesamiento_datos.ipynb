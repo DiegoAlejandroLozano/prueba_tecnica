{
 "cells": [
  {
   "cell_type": "markdown",
   "metadata": {},
   "source": [
    "# Entendimiento de los datos\n",
    "\n",
    "A continuación, se inicia el proceso de comprensión de datos, cuyo objetivo principal es familiarizarse con la información, entender sus características internas y, posteriormente, iniciar el procesamiento adecuado para alimentar un modelo de red neuronal recurrente."
   ]
  },
  {
   "cell_type": "markdown",
   "metadata": {},
   "source": [
    "## Parte 1: Carga de librerías\n",
    "\n",
    "Se procede a importar las bibliotecas que serán utilizadas a lo largo del desarrollo de este proyecto."
   ]
  },
  {
   "cell_type": "code",
   "execution_count": 1,
   "metadata": {},
   "outputs": [],
   "source": [
    "import warnings\n",
    "warnings.filterwarnings('ignore')"
   ]
  },
  {
   "cell_type": "code",
   "execution_count": 2,
   "metadata": {},
   "outputs": [],
   "source": [
    "import pandas as pd\n",
    "import seaborn as sns\n",
    "from matplotlib import pyplot as plt"
   ]
  },
  {
   "cell_type": "markdown",
   "metadata": {},
   "source": [
    "## Parte 2: Entendimiento de los datos\n",
    "\n",
    "Se procede con la carga de los datos con la ayuda de la libreria pandas."
   ]
  },
  {
   "cell_type": "code",
   "execution_count": 3,
   "metadata": {},
   "outputs": [
    {
     "data": {
      "text/html": [
       "<div>\n",
       "<style scoped>\n",
       "    .dataframe tbody tr th:only-of-type {\n",
       "        vertical-align: middle;\n",
       "    }\n",
       "\n",
       "    .dataframe tbody tr th {\n",
       "        vertical-align: top;\n",
       "    }\n",
       "\n",
       "    .dataframe thead th {\n",
       "        text-align: right;\n",
       "    }\n",
       "</style>\n",
       "<table border=\"1\" class=\"dataframe\">\n",
       "  <thead>\n",
       "    <tr style=\"text-align: right;\">\n",
       "      <th></th>\n",
       "      <th>IdConsumibles</th>\n",
       "      <th>AnoMesTransferencia</th>\n",
       "      <th>Cantidad_transferida</th>\n",
       "      <th>Cod_cliente</th>\n",
       "      <th>Estado_transferencia</th>\n",
       "    </tr>\n",
       "  </thead>\n",
       "  <tbody>\n",
       "    <tr>\n",
       "      <th>0</th>\n",
       "      <td>1</td>\n",
       "      <td>202112</td>\n",
       "      <td>97</td>\n",
       "      <td>624</td>\n",
       "      <td>Terminado</td>\n",
       "    </tr>\n",
       "    <tr>\n",
       "      <th>1</th>\n",
       "      <td>2</td>\n",
       "      <td>202112</td>\n",
       "      <td>29</td>\n",
       "      <td>843</td>\n",
       "      <td>Terminado</td>\n",
       "    </tr>\n",
       "    <tr>\n",
       "      <th>2</th>\n",
       "      <td>3</td>\n",
       "      <td>202112</td>\n",
       "      <td>99</td>\n",
       "      <td>864</td>\n",
       "      <td>Terminado</td>\n",
       "    </tr>\n",
       "    <tr>\n",
       "      <th>3</th>\n",
       "      <td>4</td>\n",
       "      <td>202112</td>\n",
       "      <td>33</td>\n",
       "      <td>598</td>\n",
       "      <td>Terminado</td>\n",
       "    </tr>\n",
       "    <tr>\n",
       "      <th>4</th>\n",
       "      <td>5</td>\n",
       "      <td>202112</td>\n",
       "      <td>20</td>\n",
       "      <td>607</td>\n",
       "      <td>Terminado</td>\n",
       "    </tr>\n",
       "    <tr>\n",
       "      <th>5</th>\n",
       "      <td>6</td>\n",
       "      <td>202112</td>\n",
       "      <td>19</td>\n",
       "      <td>700</td>\n",
       "      <td>Terminado</td>\n",
       "    </tr>\n",
       "    <tr>\n",
       "      <th>6</th>\n",
       "      <td>7</td>\n",
       "      <td>202112</td>\n",
       "      <td>20</td>\n",
       "      <td>571</td>\n",
       "      <td>Terminado</td>\n",
       "    </tr>\n",
       "    <tr>\n",
       "      <th>7</th>\n",
       "      <td>8</td>\n",
       "      <td>202112</td>\n",
       "      <td>90</td>\n",
       "      <td>578</td>\n",
       "      <td>Terminado</td>\n",
       "    </tr>\n",
       "    <tr>\n",
       "      <th>8</th>\n",
       "      <td>9</td>\n",
       "      <td>202201</td>\n",
       "      <td>55</td>\n",
       "      <td>805</td>\n",
       "      <td>Terminado</td>\n",
       "    </tr>\n",
       "    <tr>\n",
       "      <th>9</th>\n",
       "      <td>10</td>\n",
       "      <td>202201</td>\n",
       "      <td>53</td>\n",
       "      <td>794</td>\n",
       "      <td>Terminado</td>\n",
       "    </tr>\n",
       "  </tbody>\n",
       "</table>\n",
       "</div>"
      ],
      "text/plain": [
       "   IdConsumibles  AnoMesTransferencia  Cantidad_transferida  Cod_cliente   \n",
       "0              1               202112                    97          624  \\\n",
       "1              2               202112                    29          843   \n",
       "2              3               202112                    99          864   \n",
       "3              4               202112                    33          598   \n",
       "4              5               202112                    20          607   \n",
       "5              6               202112                    19          700   \n",
       "6              7               202112                    20          571   \n",
       "7              8               202112                    90          578   \n",
       "8              9               202201                    55          805   \n",
       "9             10               202201                    53          794   \n",
       "\n",
       "  Estado_transferencia  \n",
       "0            Terminado  \n",
       "1            Terminado  \n",
       "2            Terminado  \n",
       "3            Terminado  \n",
       "4            Terminado  \n",
       "5            Terminado  \n",
       "6            Terminado  \n",
       "7            Terminado  \n",
       "8            Terminado  \n",
       "9            Terminado  "
      ]
     },
     "execution_count": 3,
     "metadata": {},
     "output_type": "execute_result"
    }
   ],
   "source": [
    "df = pd.read_excel(\"base_datos/prueba.xlsx\")\n",
    "df.head(10)"
   ]
  },
  {
   "cell_type": "markdown",
   "metadata": {},
   "source": [
    "Identificar número de muestras y atributos"
   ]
  },
  {
   "cell_type": "code",
   "execution_count": 4,
   "metadata": {},
   "outputs": [
    {
     "name": "stdout",
     "output_type": "stream",
     "text": [
      "Cantidad de registros: 1000\n",
      "Cantidad de columnas: 5\n"
     ]
    }
   ],
   "source": [
    "forma = df.shape\n",
    "print(\"Cantidad de registros: {}\".format(forma[0]))\n",
    "print(\"Cantidad de columnas: {}\".format(forma[1]))"
   ]
  },
  {
   "cell_type": "markdown",
   "metadata": {},
   "source": [
    "Identificar el tipo de cada atributo"
   ]
  },
  {
   "cell_type": "code",
   "execution_count": 5,
   "metadata": {},
   "outputs": [
    {
     "data": {
      "text/plain": [
       "IdConsumibles            int64\n",
       "AnoMesTransferencia      int64\n",
       "Cantidad_transferida     int64\n",
       "Cod_cliente              int64\n",
       "Estado_transferencia    object\n",
       "dtype: object"
      ]
     },
     "execution_count": 5,
     "metadata": {},
     "output_type": "execute_result"
    }
   ],
   "source": [
    "df.dtypes"
   ]
  },
  {
   "cell_type": "markdown",
   "metadata": {},
   "source": [
    "**Nota:** Basándonos en el resultado anterior, se evidencia que únicamente una columna es categórica, mientras que las restantes son de naturaleza numérica."
   ]
  },
  {
   "cell_type": "markdown",
   "metadata": {},
   "source": [
    "Resumen medidas estadística básicas"
   ]
  },
  {
   "cell_type": "code",
   "execution_count": 6,
   "metadata": {},
   "outputs": [
    {
     "data": {
      "text/html": [
       "<div>\n",
       "<style scoped>\n",
       "    .dataframe tbody tr th:only-of-type {\n",
       "        vertical-align: middle;\n",
       "    }\n",
       "\n",
       "    .dataframe tbody tr th {\n",
       "        vertical-align: top;\n",
       "    }\n",
       "\n",
       "    .dataframe thead th {\n",
       "        text-align: right;\n",
       "    }\n",
       "</style>\n",
       "<table border=\"1\" class=\"dataframe\">\n",
       "  <thead>\n",
       "    <tr style=\"text-align: right;\">\n",
       "      <th></th>\n",
       "      <th>IdConsumibles</th>\n",
       "      <th>AnoMesTransferencia</th>\n",
       "      <th>Cantidad_transferida</th>\n",
       "      <th>Cod_cliente</th>\n",
       "    </tr>\n",
       "  </thead>\n",
       "  <tbody>\n",
       "    <tr>\n",
       "      <th>count</th>\n",
       "      <td>1000.000000</td>\n",
       "      <td>1000.000000</td>\n",
       "      <td>1000.000000</td>\n",
       "      <td>1000.000000</td>\n",
       "    </tr>\n",
       "    <tr>\n",
       "      <th>mean</th>\n",
       "      <td>500.500000</td>\n",
       "      <td>202218.678000</td>\n",
       "      <td>51.155000</td>\n",
       "      <td>720.425000</td>\n",
       "    </tr>\n",
       "    <tr>\n",
       "      <th>std</th>\n",
       "      <td>288.819436</td>\n",
       "      <td>84.653296</td>\n",
       "      <td>28.702488</td>\n",
       "      <td>104.843753</td>\n",
       "    </tr>\n",
       "    <tr>\n",
       "      <th>min</th>\n",
       "      <td>1.000000</td>\n",
       "      <td>202106.000000</td>\n",
       "      <td>3.000000</td>\n",
       "      <td>536.000000</td>\n",
       "    </tr>\n",
       "    <tr>\n",
       "      <th>25%</th>\n",
       "      <td>250.750000</td>\n",
       "      <td>202112.000000</td>\n",
       "      <td>26.000000</td>\n",
       "      <td>627.000000</td>\n",
       "    </tr>\n",
       "    <tr>\n",
       "      <th>50%</th>\n",
       "      <td>500.500000</td>\n",
       "      <td>202206.000000</td>\n",
       "      <td>50.000000</td>\n",
       "      <td>724.500000</td>\n",
       "    </tr>\n",
       "    <tr>\n",
       "      <th>75%</th>\n",
       "      <td>750.250000</td>\n",
       "      <td>202304.000000</td>\n",
       "      <td>77.000000</td>\n",
       "      <td>811.250000</td>\n",
       "    </tr>\n",
       "    <tr>\n",
       "      <th>max</th>\n",
       "      <td>1000.000000</td>\n",
       "      <td>202402.000000</td>\n",
       "      <td>100.000000</td>\n",
       "      <td>896.000000</td>\n",
       "    </tr>\n",
       "  </tbody>\n",
       "</table>\n",
       "</div>"
      ],
      "text/plain": [
       "       IdConsumibles  AnoMesTransferencia  Cantidad_transferida  Cod_cliente\n",
       "count    1000.000000          1000.000000           1000.000000  1000.000000\n",
       "mean      500.500000        202218.678000             51.155000   720.425000\n",
       "std       288.819436            84.653296             28.702488   104.843753\n",
       "min         1.000000        202106.000000              3.000000   536.000000\n",
       "25%       250.750000        202112.000000             26.000000   627.000000\n",
       "50%       500.500000        202206.000000             50.000000   724.500000\n",
       "75%       750.250000        202304.000000             77.000000   811.250000\n",
       "max      1000.000000        202402.000000            100.000000   896.000000"
      ]
     },
     "execution_count": 6,
     "metadata": {},
     "output_type": "execute_result"
    }
   ],
   "source": [
    "df.describe()"
   ]
  },
  {
   "cell_type": "markdown",
   "metadata": {},
   "source": [
    "Valores únicos de las variables categóricas"
   ]
  },
  {
   "cell_type": "code",
   "execution_count": 7,
   "metadata": {},
   "outputs": [
    {
     "data": {
      "text/plain": [
       "array(['Terminado'], dtype=object)"
      ]
     },
     "execution_count": 7,
     "metadata": {},
     "output_type": "execute_result"
    }
   ],
   "source": [
    "df['Estado_transferencia'].unique()"
   ]
  },
  {
   "cell_type": "markdown",
   "metadata": {},
   "source": [
    "**Nota:** Se observa que la columna 'Estado_transferencia' únicamente presenta la categoría 'Terminado'."
   ]
  },
  {
   "cell_type": "markdown",
   "metadata": {},
   "source": [
    "Identificar registros faltantes"
   ]
  },
  {
   "cell_type": "code",
   "execution_count": 8,
   "metadata": {},
   "outputs": [
    {
     "name": "stdout",
     "output_type": "stream",
     "text": [
      "<class 'pandas.core.frame.DataFrame'>\n",
      "RangeIndex: 1000 entries, 0 to 999\n",
      "Data columns (total 5 columns):\n",
      " #   Column                Non-Null Count  Dtype \n",
      "---  ------                --------------  ----- \n",
      " 0   IdConsumibles         1000 non-null   int64 \n",
      " 1   AnoMesTransferencia   1000 non-null   int64 \n",
      " 2   Cantidad_transferida  1000 non-null   int64 \n",
      " 3   Cod_cliente           1000 non-null   int64 \n",
      " 4   Estado_transferencia  1000 non-null   object\n",
      "dtypes: int64(4), object(1)\n",
      "memory usage: 39.2+ KB\n"
     ]
    }
   ],
   "source": [
    "df.info()"
   ]
  },
  {
   "cell_type": "markdown",
   "metadata": {},
   "source": [
    "**Nota:** Según la información proporcionada, no hay valores ausentes en el DataFrame. Esto se puede confirmar observando la columna \"Non-Null Count\" en el resumen de la información del DataFrame, que indica que todas las columnas tienen 1000 valores no nulos. Por lo tanto, todas las entradas tienen valores presentes en estas columnas y no hay valores faltantes."
   ]
  },
  {
   "cell_type": "markdown",
   "metadata": {},
   "source": [
    "Verificar si hay registros repeditos"
   ]
  },
  {
   "cell_type": "code",
   "execution_count": 9,
   "metadata": {},
   "outputs": [
    {
     "name": "stdout",
     "output_type": "stream",
     "text": [
      "Cantidad registros duplicados: 0\n"
     ]
    }
   ],
   "source": [
    "duplicados = df.duplicated()\n",
    "total_duplicados = duplicados.sum()\n",
    "print(\"Cantidad registros duplicados: {}\".format(total_duplicados))"
   ]
  },
  {
   "cell_type": "markdown",
   "metadata": {},
   "source": [
    "## Parte 3: Preparación de los datos\n",
    "\n",
    "En la sección de preparación de datos, se llevarán a cabo las siguientes acciones:\n",
    "\n",
    "1. Se eliminarán las columnas \"idConsumibles\" y \"Estado_transferencia\" del conjunto de datos. La columna \"idConsumibles\" consiste en un identificador único asignado a cada registro de la base de datos. Aunque útil para distinguir cada entrada individualmente, no añade información relevante para el análisis de pronóstico de demanda de consumibles. En cuanto a la columna \"Estado_transferencia\", indica el estado de la transferencia de consumibles, pero al mantenerse constante en todos los registros, no aporta variabilidad ni información significativa para el análisis. Adicionalmente, se eliminará la columna 'Cod_cliente' dado que no es relevante para los objetivos analíticos del ejercicio.\n",
    "\n",
    "2. Se procederá a convertir las fechas al formato apropiado y a ordenarlas cronológicamente."
   ]
  },
  {
   "cell_type": "code",
   "execution_count": 10,
   "metadata": {},
   "outputs": [],
   "source": [
    "#Se crea una copa del dataframe original, para no ser afectado por la etapa de preparación\n",
    "df_pro = df.copy()"
   ]
  },
  {
   "cell_type": "markdown",
   "metadata": {},
   "source": [
    "### Eliminación de columnas\n",
    "\n",
    "Se procede a eliminar las columnas \"idConsumibles\" y \"Estado_transferencia\"."
   ]
  },
  {
   "cell_type": "code",
   "execution_count": 11,
   "metadata": {},
   "outputs": [
    {
     "data": {
      "text/html": [
       "<div>\n",
       "<style scoped>\n",
       "    .dataframe tbody tr th:only-of-type {\n",
       "        vertical-align: middle;\n",
       "    }\n",
       "\n",
       "    .dataframe tbody tr th {\n",
       "        vertical-align: top;\n",
       "    }\n",
       "\n",
       "    .dataframe thead th {\n",
       "        text-align: right;\n",
       "    }\n",
       "</style>\n",
       "<table border=\"1\" class=\"dataframe\">\n",
       "  <thead>\n",
       "    <tr style=\"text-align: right;\">\n",
       "      <th></th>\n",
       "      <th>AnoMesTransferencia</th>\n",
       "      <th>Cantidad_transferida</th>\n",
       "    </tr>\n",
       "  </thead>\n",
       "  <tbody>\n",
       "    <tr>\n",
       "      <th>0</th>\n",
       "      <td>202112</td>\n",
       "      <td>97</td>\n",
       "    </tr>\n",
       "    <tr>\n",
       "      <th>1</th>\n",
       "      <td>202112</td>\n",
       "      <td>29</td>\n",
       "    </tr>\n",
       "    <tr>\n",
       "      <th>2</th>\n",
       "      <td>202112</td>\n",
       "      <td>99</td>\n",
       "    </tr>\n",
       "    <tr>\n",
       "      <th>3</th>\n",
       "      <td>202112</td>\n",
       "      <td>33</td>\n",
       "    </tr>\n",
       "    <tr>\n",
       "      <th>4</th>\n",
       "      <td>202112</td>\n",
       "      <td>20</td>\n",
       "    </tr>\n",
       "    <tr>\n",
       "      <th>...</th>\n",
       "      <td>...</td>\n",
       "      <td>...</td>\n",
       "    </tr>\n",
       "    <tr>\n",
       "      <th>995</th>\n",
       "      <td>202209</td>\n",
       "      <td>12</td>\n",
       "    </tr>\n",
       "    <tr>\n",
       "      <th>996</th>\n",
       "      <td>202209</td>\n",
       "      <td>56</td>\n",
       "    </tr>\n",
       "    <tr>\n",
       "      <th>997</th>\n",
       "      <td>202209</td>\n",
       "      <td>11</td>\n",
       "    </tr>\n",
       "    <tr>\n",
       "      <th>998</th>\n",
       "      <td>202209</td>\n",
       "      <td>87</td>\n",
       "    </tr>\n",
       "    <tr>\n",
       "      <th>999</th>\n",
       "      <td>202209</td>\n",
       "      <td>17</td>\n",
       "    </tr>\n",
       "  </tbody>\n",
       "</table>\n",
       "<p>1000 rows × 2 columns</p>\n",
       "</div>"
      ],
      "text/plain": [
       "     AnoMesTransferencia  Cantidad_transferida\n",
       "0                 202112                    97\n",
       "1                 202112                    29\n",
       "2                 202112                    99\n",
       "3                 202112                    33\n",
       "4                 202112                    20\n",
       "..                   ...                   ...\n",
       "995               202209                    12\n",
       "996               202209                    56\n",
       "997               202209                    11\n",
       "998               202209                    87\n",
       "999               202209                    17\n",
       "\n",
       "[1000 rows x 2 columns]"
      ]
     },
     "execution_count": 11,
     "metadata": {},
     "output_type": "execute_result"
    }
   ],
   "source": [
    "df_pro.drop(columns=[\"IdConsumibles\",\"Estado_transferencia\", \"Cod_cliente\"], axis=1, inplace=True)\n",
    "df_pro"
   ]
  },
  {
   "cell_type": "markdown",
   "metadata": {},
   "source": [
    "### Cambio formato de fechas\n",
    " \n"
   ]
  },
  {
   "cell_type": "code",
   "execution_count": 12,
   "metadata": {},
   "outputs": [
    {
     "data": {
      "text/html": [
       "<div>\n",
       "<style scoped>\n",
       "    .dataframe tbody tr th:only-of-type {\n",
       "        vertical-align: middle;\n",
       "    }\n",
       "\n",
       "    .dataframe tbody tr th {\n",
       "        vertical-align: top;\n",
       "    }\n",
       "\n",
       "    .dataframe thead th {\n",
       "        text-align: right;\n",
       "    }\n",
       "</style>\n",
       "<table border=\"1\" class=\"dataframe\">\n",
       "  <thead>\n",
       "    <tr style=\"text-align: right;\">\n",
       "      <th></th>\n",
       "      <th>AnoMesTransferencia</th>\n",
       "      <th>Cantidad_transferida</th>\n",
       "    </tr>\n",
       "  </thead>\n",
       "  <tbody>\n",
       "    <tr>\n",
       "      <th>0</th>\n",
       "      <td>2021-06-01</td>\n",
       "      <td>8</td>\n",
       "    </tr>\n",
       "    <tr>\n",
       "      <th>1</th>\n",
       "      <td>2021-06-01</td>\n",
       "      <td>38</td>\n",
       "    </tr>\n",
       "    <tr>\n",
       "      <th>2</th>\n",
       "      <td>2021-06-01</td>\n",
       "      <td>50</td>\n",
       "    </tr>\n",
       "    <tr>\n",
       "      <th>3</th>\n",
       "      <td>2021-06-01</td>\n",
       "      <td>28</td>\n",
       "    </tr>\n",
       "    <tr>\n",
       "      <th>4</th>\n",
       "      <td>2021-06-01</td>\n",
       "      <td>68</td>\n",
       "    </tr>\n",
       "  </tbody>\n",
       "</table>\n",
       "</div>"
      ],
      "text/plain": [
       "  AnoMesTransferencia  Cantidad_transferida\n",
       "0          2021-06-01                     8\n",
       "1          2021-06-01                    38\n",
       "2          2021-06-01                    50\n",
       "3          2021-06-01                    28\n",
       "4          2021-06-01                    68"
      ]
     },
     "execution_count": 12,
     "metadata": {},
     "output_type": "execute_result"
    }
   ],
   "source": [
    "df_pro['AnoMesTransferencia'] = pd.to_datetime(df_pro['AnoMesTransferencia'], format='%Y%m')\n",
    "df_pro.sort_values(by='AnoMesTransferencia', inplace=True)\n",
    "df_pro.reset_index(drop=True, inplace=True)\n",
    "df_pro.head()"
   ]
  },
  {
   "cell_type": "markdown",
   "metadata": {},
   "source": [
    "Con el objetivo de garantizar una estimación precisa de los insumos necesarios para cubrir la demanda proyectada en cada mes, se procede a organizar los datos por periodo mensual."
   ]
  },
  {
   "cell_type": "code",
   "execution_count": 13,
   "metadata": {},
   "outputs": [
    {
     "data": {
      "text/html": [
       "<div>\n",
       "<style scoped>\n",
       "    .dataframe tbody tr th:only-of-type {\n",
       "        vertical-align: middle;\n",
       "    }\n",
       "\n",
       "    .dataframe tbody tr th {\n",
       "        vertical-align: top;\n",
       "    }\n",
       "\n",
       "    .dataframe thead th {\n",
       "        text-align: right;\n",
       "    }\n",
       "</style>\n",
       "<table border=\"1\" class=\"dataframe\">\n",
       "  <thead>\n",
       "    <tr style=\"text-align: right;\">\n",
       "      <th></th>\n",
       "      <th>AnoMesTransferencia</th>\n",
       "      <th>Cantidad_transferida</th>\n",
       "    </tr>\n",
       "  </thead>\n",
       "  <tbody>\n",
       "    <tr>\n",
       "      <th>0</th>\n",
       "      <td>2021-06-30</td>\n",
       "      <td>1669</td>\n",
       "    </tr>\n",
       "    <tr>\n",
       "      <th>1</th>\n",
       "      <td>2021-07-31</td>\n",
       "      <td>2796</td>\n",
       "    </tr>\n",
       "    <tr>\n",
       "      <th>2</th>\n",
       "      <td>2021-08-31</td>\n",
       "      <td>1427</td>\n",
       "    </tr>\n",
       "    <tr>\n",
       "      <th>3</th>\n",
       "      <td>2021-09-30</td>\n",
       "      <td>1974</td>\n",
       "    </tr>\n",
       "    <tr>\n",
       "      <th>4</th>\n",
       "      <td>2021-10-31</td>\n",
       "      <td>1833</td>\n",
       "    </tr>\n",
       "  </tbody>\n",
       "</table>\n",
       "</div>"
      ],
      "text/plain": [
       "  AnoMesTransferencia  Cantidad_transferida\n",
       "0          2021-06-30                  1669\n",
       "1          2021-07-31                  2796\n",
       "2          2021-08-31                  1427\n",
       "3          2021-09-30                  1974\n",
       "4          2021-10-31                  1833"
      ]
     },
     "execution_count": 13,
     "metadata": {},
     "output_type": "execute_result"
    }
   ],
   "source": [
    "df_pro = df_pro.groupby(pd.Grouper(key='AnoMesTransferencia', freq='M')).sum().reset_index()\n",
    "df_pro.head()"
   ]
  },
  {
   "cell_type": "markdown",
   "metadata": {},
   "source": [
    "Se guarda el conjunto de datos procesado "
   ]
  },
  {
   "cell_type": "code",
   "execution_count": 14,
   "metadata": {},
   "outputs": [],
   "source": [
    "df_pro.to_excel(\"base_datos_procesada/datos_procesados.xlsx\", index=False)"
   ]
  },
  {
   "cell_type": "code",
   "execution_count": 15,
   "metadata": {},
   "outputs": [
    {
     "name": "stdout",
     "output_type": "stream",
     "text": [
      "   AnoMesTransferencia  Cantidad_transferida\n",
      "0           2021-06-30                  1669\n",
      "1           2021-07-31                  2796\n",
      "2           2021-08-31                  1427\n",
      "3           2021-09-30                  1974\n",
      "4           2021-10-31                  1833\n",
      "5           2021-11-30                  1984\n",
      "6           2021-12-31                  1836\n",
      "7           2022-01-31                  2414\n",
      "8           2022-02-28                  2103\n",
      "9           2022-03-31                  2198\n",
      "10          2022-04-30                  1898\n",
      "11          2022-05-31                  2599\n",
      "12          2022-06-30                  2002\n",
      "13          2022-07-31                  2306\n",
      "14          2022-08-31                  2015\n",
      "15          2022-09-30                  1141\n",
      "16          2022-10-31                   983\n",
      "17          2022-11-30                   770\n",
      "18          2022-12-31                  1008\n",
      "19          2023-01-31                  1323\n",
      "20          2023-02-28                  1057\n",
      "21          2023-03-31                   889\n",
      "22          2023-04-30                   810\n",
      "23          2023-05-31                   703\n",
      "24          2023-06-30                   790\n",
      "25          2023-07-31                   677\n",
      "26          2023-08-31                  1022\n",
      "27          2023-09-30                  1446\n",
      "28          2023-10-31                  1302\n",
      "29          2023-11-30                  1203\n",
      "30          2023-12-31                  1873\n",
      "31          2024-01-31                  1322\n",
      "32          2024-02-29                  1782\n"
     ]
    }
   ],
   "source": [
    "print(df_pro)"
   ]
  },
  {
   "cell_type": "code",
   "execution_count": 16,
   "metadata": {},
   "outputs": [
    {
     "name": "stdout",
     "output_type": "stream",
     "text": [
      "     IdConsumibles  AnoMesTransferencia  Cantidad_transferida  Cod_cliente   \n",
      "0                1               202112                    97          624  \\\n",
      "1                2               202112                    29          843   \n",
      "2                3               202112                    99          864   \n",
      "3                4               202112                    33          598   \n",
      "4                5               202112                    20          607   \n",
      "..             ...                  ...                   ...          ...   \n",
      "995            996               202209                    12          572   \n",
      "996            997               202209                    56          615   \n",
      "997            998               202209                    11          763   \n",
      "998            999               202209                    87          716   \n",
      "999           1000               202209                    17          540   \n",
      "\n",
      "    Estado_transferencia  \n",
      "0              Terminado  \n",
      "1              Terminado  \n",
      "2              Terminado  \n",
      "3              Terminado  \n",
      "4              Terminado  \n",
      "..                   ...  \n",
      "995            Terminado  \n",
      "996            Terminado  \n",
      "997            Terminado  \n",
      "998            Terminado  \n",
      "999            Terminado  \n",
      "\n",
      "[1000 rows x 5 columns]\n"
     ]
    }
   ],
   "source": [
    "print(df)"
   ]
  }
 ],
 "metadata": {
  "kernelspec": {
   "display_name": "venv",
   "language": "python",
   "name": "python3"
  },
  "language_info": {
   "codemirror_mode": {
    "name": "ipython",
    "version": 3
   },
   "file_extension": ".py",
   "mimetype": "text/x-python",
   "name": "python",
   "nbconvert_exporter": "python",
   "pygments_lexer": "ipython3",
   "version": "3.9.13"
  }
 },
 "nbformat": 4,
 "nbformat_minor": 2
}
